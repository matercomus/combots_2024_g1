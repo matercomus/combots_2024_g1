{
 "cells": [
  {
   "cell_type": "markdown",
   "id": "61a1c1a7-3df6-412d-a391-11c373ffc664",
   "metadata": {},
   "source": [
    "# OpenAI Image-to-Text description\n",
    "\n",
    "https://platform.openai.com/docs/guides/vision"
   ]
  },
  {
   "cell_type": "code",
   "execution_count": 1,
   "id": "f8b43901-bb3a-4635-9cbe-6090ec3187b8",
   "metadata": {
    "tags": []
   },
   "outputs": [],
   "source": [
    "#!pip install openai"
   ]
  },
  {
   "cell_type": "code",
   "execution_count": 5,
   "id": "c326d087-d19c-4fbb-a983-e06a180b14d3",
   "metadata": {
    "tags": []
   },
   "outputs": [
    {
     "name": "stdout",
     "output_type": "stream",
     "text": [
      "{'id': 'chatcmpl-8LbLVJrRdakXMLKl1y1pc2Zzh5Lhe', 'object': 'chat.completion', 'created': 1700159137, 'model': 'gpt-4-1106-vision-preview', 'usage': {'prompt_tokens': 778, 'completion_tokens': 100, 'total_tokens': 878}, 'choices': [{'message': {'role': 'assistant', 'content': 'The image features an indoor setting and displays a wooden table on which several items are placed. From left to right, there is a metallic-looking vase, followed by a laptop open on the tabletop, and to the right of the laptop, there is a blue folder or binder. The background shows a corner of a room with yellow walls and a portion of a white door to the left. The lighting suggests an interior environment, possibly a home or office space. The image appears to be computer-generated, evident'}, 'finish_details': {'type': 'max_tokens'}, 'index': 0}]}\n"
     ]
    }
   ],
   "source": [
    "import base64\n",
    "import requests\n",
    "\n",
    "# OpenAI API Key\n",
    "\n",
    "with open('openaikey.txt') as f:\n",
    "    # Read the contents of the file into a variable\n",
    "    api_key = f.read()\n",
    "\n",
    "# Function to encode the image\n",
    "def encode_image(image_path):\n",
    "  with open(image_path, \"rb\") as image_file:\n",
    "    return base64.b64encode(image_file.read()).decode('utf-8')\n",
    "\n",
    "# Path to your image\n",
    "image_path = \"laptop.png\"\n",
    "\n",
    "# Getting the base64 string\n",
    "base64_image = encode_image(image_path)\n",
    "\n",
    "headers = {\n",
    "  \"Content-Type\": \"application/json\",\n",
    "  \"Authorization\": f\"Bearer {api_key}\"\n",
    "}\n",
    "\n",
    "payload = {\n",
    "  \"model\": \"gpt-4-vision-preview\",\n",
    "  \"messages\": [\n",
    "    {\n",
    "      \"role\": \"user\",\n",
    "      \"content\": [\n",
    "        {\n",
    "          \"type\": \"text\",\n",
    "          \"text\": \"What’s in this image?\"\n",
    "        },\n",
    "        {\n",
    "          \"type\": \"image_url\",\n",
    "          \"image_url\": {\n",
    "            \"url\": f\"data:image/jpeg;base64,{base64_image}\"\n",
    "          }\n",
    "        }\n",
    "      ]\n",
    "    }\n",
    "  ],\n",
    "  \"max_tokens\": 100\n",
    "}\n",
    "\n",
    "response = requests.post(\"https://api.openai.com/v1/chat/completions\", headers=headers, json=payload)\n",
    "\n",
    "print(response.json())"
   ]
  },
  {
   "cell_type": "code",
   "execution_count": null,
   "id": "f5a741bd-5a62-413e-90f2-2d334742ba3b",
   "metadata": {},
   "outputs": [],
   "source": []
  }
 ],
 "metadata": {
  "kernelspec": {
   "display_name": "Python 3 (ipykernel)",
   "language": "python",
   "name": "python3"
  },
  "language_info": {
   "codemirror_mode": {
    "name": "ipython",
    "version": 3
   },
   "file_extension": ".py",
   "mimetype": "text/x-python",
   "name": "python",
   "nbconvert_exporter": "python",
   "pygments_lexer": "ipython3",
   "version": "3.12.7"
  }
 },
 "nbformat": 4,
 "nbformat_minor": 5
}
